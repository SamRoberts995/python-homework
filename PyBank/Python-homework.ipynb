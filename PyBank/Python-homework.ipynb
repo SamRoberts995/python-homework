{
 "cells": [
  {
   "cell_type": "code",
   "execution_count": 1,
   "id": "ae2a1f59-5344-4f42-be1f-67f4fd72d1b1",
   "metadata": {},
   "outputs": [
    {
     "data": {
      "text/plain": [
       "' Your task is to create a Python script that analyzes the records to calculate each of the following:\\nThe total number of months included in the dataset.\\nThe net total amount of Profit/Losses over the entire period.\\nThe average of the changes in Profit/Losses over the entire period.\\nThe greatest increase in profits (date and amount) over the entire period.\\nThe greatest decrease in losses (date and amount) over the entire period.\\n'"
      ]
     },
     "execution_count": 1,
     "metadata": {},
     "output_type": "execute_result"
    }
   ],
   "source": [
    "''' Your task is to create a Python script that analyzes the records to calculate each of the following:\n",
    "The total number of months included in the dataset.\n",
    "The net total amount of Profit/Losses over the entire period.\n",
    "The average of the changes in Profit/Losses over the entire period.\n",
    "The greatest increase in profits (date and amount) over the entire period.\n",
    "The greatest decrease in losses (date and amount) over the entire period.\n",
    "'''\n"
   ]
  },
  {
   "cell_type": "code",
   "execution_count": 163,
   "id": "0f6e8798-f31a-4af2-b671-11e196a27696",
   "metadata": {},
   "outputs": [
    {
     "name": "stdout",
     "output_type": "stream",
     "text": [
      "\n",
      "\n",
      "Financial Analysis\n",
      "----------------------\n",
      "Total Months: 86\n",
      "Total Revenue: $38382578\n",
      "Average  Change: $-2315.12\n",
      "Greatest Increase: Feb-2012 ($1926159)\n",
      "Greatest Decrease: Sep-2013 ($-2196167)\n"
     ]
    }
   ],
   "source": [
    "# Import the pathlib and csv library\n",
    "from pathlib import Path\n",
    "import csv\n",
    "\n",
    "# Set the file path\n",
    "csvpath = Path(\"budget_data.csv\")\n",
    "\n",
    "file_to_output = \"budget_analysis.txt\"\n",
    "\n",
    "# Variables to track:\n",
    "total_months = 0\n",
    "total_revenue = 0\n",
    "previous_revenue = 0\n",
    "revenue_change = 0\n",
    "greatest_increase = [\"\", 0]\n",
    "greatest_decrease = [\"\", 0]\n",
    "\n",
    "revenue_changes = []\n",
    "\n",
    "# Open the CSV File as an Object\n",
    "with open(csvpath, \"r\") as csvfile:\n",
    "    \n",
    "    #pass in the csv file to the csv.reader()function\n",
    "    #(with ',' as the delimiter and return the csvreader object\n",
    "    csvreader = csv.reader(csvfile, delimiter=\",\")\n",
    "    csv_header = next(csvreader)\n",
    "    \n",
    "    \n",
    "    # print(csv_header)\n",
    "        \n",
    "    #Read each row of data after the header\n",
    "    for row in csvreader:\n",
    "        \n",
    "        #Caluclate Totals:\n",
    "        total_months = total_months + 1\n",
    "        total_revenue = total_revenue + int(row[1])\n",
    "        # print row\n",
    "        \n",
    "        #Track Changes:\n",
    "        if total_months > 1:\n",
    "            revenue_change = int(row[1]) - previous_revenue\n",
    "        \n",
    "        # print(revenue_change)\n",
    "        \n",
    "        #reset the value of the previous revenue:\n",
    "        previous_revenue = int(row[1])\n",
    "             \n",
    "        \n",
    "        #Determine the greatest increase \n",
    "        if (revenue_change > greatest_increase[1]):\n",
    "            greatest_increase[1] = revenue_change\n",
    "            greatest_increase [0] = row[0]\n",
    "            \n",
    "        # Determine the greatest decrease:\n",
    "        if (revenue_change < greatest_decrease[1]):\n",
    "            greatest_decrease[1] = revenue_change\n",
    "            greatest_decrease[0] = row[0]\n",
    "            \n",
    "         # Add to the revenue_changes list\n",
    "        revenue_changes.append(revenue_change)\n",
    "        \n",
    "        \n",
    "    # Set the Revenue Average\n",
    "    revenue_avg = sum(revenue_changes) / len(revenue_changes)\n",
    "    total_revenue_change = sum(revenue_changes)\n",
    "        \n",
    "    # Show Output:\n",
    "    print()\n",
    "    print()\n",
    "    print(\"Financial Analysis\")\n",
    "    print(\"----------------------\")\n",
    "    print(\"Total Months: \" +str(total_months))\n",
    "    print(\"Total Revenue: \" + \"$\" + str(total_revenue))\n",
    "    total_change_month_count = total_months -1\n",
    "    print(f\"Average  Change: ${total_revenue_change / total_change_month_count: .2F}\")\n",
    "    print(\"Greatest Increase: \" + str(greatest_increase[0]) + \" ($\" +  str(greatest_increase[1]) + \")\") \n",
    "    print(\"Greatest Decrease: \" + str(greatest_decrease[0]) + \" ($\" +  str(greatest_decrease[1]) + \")\")\n",
    "            \n"
   ]
  },
  {
   "cell_type": "code",
   "execution_count": 162,
   "id": "b04d3b00-6008-4458-b055-c31ab3498426",
   "metadata": {},
   "outputs": [],
   "source": [
    "# Output Files\n",
    "with open(file_to_output, \"w\") as txt_file:\n",
    "    txt_file.write(\"Total Months: \" + str(total_months))\n",
    "    txt_file.write(\"\\n\")\n",
    "    txt_file.write(\"Total Revenue: \" + \"$\" + str(total_revenue))\n",
    "    txt_file.write(\"\\n\")\n",
    "    txt_file.write(\"Average Change: \" + \"$\" + str(round(sum(revenue_changes) / len(revenue_changes),2)))\n",
    "    txt_file.write(\"\\n\")\n",
    "    txt_file.write(\"Greatest Increase: \" + str(greatest_increase[0]) + \" ($\" + str(greatest_increase[1]) + \")\") \n",
    "    txt_file.write(\"\\n\")\n",
    "    txt_file.write(\"Greatest Decrease: \" + str(greatest_decrease[0]) + \" ($\" + str(greatest_decrease[1]) + \")\")"
   ]
  },
  {
   "cell_type": "code",
   "execution_count": null,
   "id": "461af4e1-304a-4ee9-aa91-2eef94901a1e",
   "metadata": {},
   "outputs": [],
   "source": []
  }
 ],
 "metadata": {
  "kernelspec": {
   "display_name": "Python 3 (ipykernel)",
   "language": "python",
   "name": "python3"
  },
  "language_info": {
   "codemirror_mode": {
    "name": "ipython",
    "version": 3
   },
   "file_extension": ".py",
   "mimetype": "text/x-python",
   "name": "python",
   "nbconvert_exporter": "python",
   "pygments_lexer": "ipython3",
   "version": "3.7.11"
  }
 },
 "nbformat": 4,
 "nbformat_minor": 5
}
