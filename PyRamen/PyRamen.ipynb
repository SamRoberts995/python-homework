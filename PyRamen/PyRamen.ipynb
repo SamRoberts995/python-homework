{
 "cells": [
  {
   "cell_type": "code",
   "execution_count": 31,
   "id": "18cb02f3-5926-4cae-95e6-c7b726157557",
   "metadata": {},
   "outputs": [
    {
     "name": "stdout",
     "output_type": "stream",
     "text": [
      "item: edamame | Cost: 1\n",
      "item: house salad | Cost: 2\n",
      "item: cucumber sunomono salad | Cost: 2\n",
      "item: hiyashi wakame seaweed salad | Cost: 2\n",
      "item: agedashi tofu | Cost: 2\n",
      "item: hiyayakko tofu | Cost: 2\n",
      "item: pork floss bao | Cost: 2\n",
      "item: kakuni bao | Cost: 3\n",
      "item: edamame fried gyoza (vegan) | Cost: 3\n",
      "item: fried gyoza | Cost: 6\n",
      "item: takoyaki | Cost: 3\n",
      "item: rock shrimp tempura | Cost: 3\n",
      "item: soft-shell crab tempura | Cost: 3\n",
      "item: ebi katsu shrimp bao | Cost: 3\n",
      "item: nagomi shoyu | Cost: 5\n",
      "item: shio ramen | Cost: 5\n",
      "item: spicy miso ramen | Cost: 5\n",
      "item: vegetarian spicy miso | Cost: 5\n",
      "item: miso crab ramen | Cost: 6\n",
      "item: soft-shell miso crab ramen | Cost: 7\n",
      "item: tori paitan ramen | Cost: 6\n",
      "item: tonkotsu ramen | Cost: 6\n",
      "item: burnt garlic tonkotsu ramen | Cost: 6\n",
      "item: vegetarian curry + king trumpet mushroom ramen | Cost: 7\n",
      "item: truffle butter ramen | Cost: 7\n",
      "item: green tea | Cost: 1\n",
      "item: coke | Cost: 1\n",
      "item: black sesame ice cream | Cost: 2\n",
      "item: matcha ice cream | Cost: 2\n",
      "item: mango mochi ice cream | Cost: 2\n",
      "item: strawberry mochi ice cream | Cost: 2\n",
      "item: black sesame creme brulee | Cost: 3\n"
     ]
    }
   ],
   "source": [
    "from pathlib import Path\n",
    "import csv\n",
    "\n",
    "csvpath = Path(\"menu_data.csv\")\n",
    "\n",
    "item = 0\n",
    "total_cost = 0\n",
    "\n",
    "with open(csvpath, \"r\") as csvfile:\n",
    "    csvreader = csv.reader(csvfile, delimiter=\",\")\n",
    "    csv_header = next(csvreader)\n",
    "    \n",
    "    # print(csv_header)\n",
    "    \n",
    "    for row in csvreader:\n",
    "        item = total_price + 1\n",
    "        total_cost = total_cost + int(row[4])\n",
    "        \n",
    "        print(f\"item: {row[0]} | Cost: {row[4]}\")"
   ]
  },
  {
   "cell_type": "code",
   "execution_count": null,
   "id": "5f376019-b004-4aaf-a253-55c4d80a3bbd",
   "metadata": {},
   "outputs": [],
   "source": []
  }
 ],
 "metadata": {
  "kernelspec": {
   "display_name": "Python 3 (ipykernel)",
   "language": "python",
   "name": "python3"
  },
  "language_info": {
   "codemirror_mode": {
    "name": "ipython",
    "version": 3
   },
   "file_extension": ".py",
   "mimetype": "text/x-python",
   "name": "python",
   "nbconvert_exporter": "python",
   "pygments_lexer": "ipython3",
   "version": "3.7.11"
  }
 },
 "nbformat": 4,
 "nbformat_minor": 5
}
